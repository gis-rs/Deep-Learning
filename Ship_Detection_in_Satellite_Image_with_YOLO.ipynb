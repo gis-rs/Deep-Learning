{
  "nbformat": 4,
  "nbformat_minor": 0,
  "metadata": {
    "colab": {
      "provenance": [],
      "authorship_tag": "ABX9TyPJGgW9ZSppSlJHV2kEXnJT",
      "include_colab_link": true
    },
    "kernelspec": {
      "name": "python3",
      "display_name": "Python 3"
    },
    "language_info": {
      "name": "python"
    }
  },
  "cells": [
    {
      "cell_type": "markdown",
      "metadata": {
        "id": "view-in-github",
        "colab_type": "text"
      },
      "source": [
        "<a href=\"https://colab.research.google.com/github/gis-rs/Deep-Learning/blob/main/Ship_Detection_in_Satellite_Image_with_YOLO.ipynb\" target=\"_parent\"><img src=\"https://colab.research.google.com/assets/colab-badge.svg\" alt=\"Open In Colab\"/></a>"
      ]
    },
    {
      "cell_type": "code",
      "execution_count": null,
      "metadata": {
        "id": "FGz44ReMX8yh"
      },
      "outputs": [],
      "source": [
        "!unzip \"/content/ship_data.zip\" -d \"/content/\""
      ]
    },
    {
      "cell_type": "code",
      "source": [
        "yaml_content = \"\"\"\n",
        "path: /content/ship_data\n",
        "train: images/train\n",
        "val: images/val\n",
        "test: images/test\n",
        "\n",
        "names:\n",
        "  0: ship\n",
        "\"\"\"\n",
        "\n",
        "# Write to file\n",
        "with open(\"/content/ship.yaml\", \"w\") as f:\n",
        "    f.write(yaml_content)"
      ],
      "metadata": {
        "id": "wzl3RkI-Zdt7"
      },
      "execution_count": null,
      "outputs": []
    },
    {
      "cell_type": "code",
      "source": [
        "!pip install ultralytics"
      ],
      "metadata": {
        "id": "qRkA1gE-Ze4v"
      },
      "execution_count": null,
      "outputs": []
    },
    {
      "cell_type": "code",
      "source": [
        "from ultralytics import YOLO\n",
        "\n",
        "model = YOLO(\"yolov8s.pt\")\n",
        "\n",
        "model.train(data=\"/content/ship.yaml\", epochs=100, imgsz=640, batch=16)"
      ],
      "metadata": {
        "id": "ww7CmrnmblJ2"
      },
      "execution_count": null,
      "outputs": []
    },
    {
      "cell_type": "code",
      "source": [
        "results = model.predict(source=\"/content/ship_data/images/test/\", save=True)"
      ],
      "metadata": {
        "id": "IhlEgKZWei1T"
      },
      "execution_count": null,
      "outputs": []
    },
    {
      "cell_type": "code",
      "source": [
        "result2 = model.predict(source=\"/content/ship_data/images/test/\", conf=0.8, save=True)"
      ],
      "metadata": {
        "collapsed": true,
        "id": "R6CeFshIfhFZ"
      },
      "execution_count": null,
      "outputs": []
    }
  ]
}